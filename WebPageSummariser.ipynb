{
 "cells": [
  {
   "cell_type": "code",
   "execution_count": 13,
   "id": "523be164",
   "metadata": {},
   "outputs": [
    {
     "name": "stdout",
     "output_type": "stream",
     "text": [
      "Note: you may need to restart the kernel to use updated packages.\n"
     ]
    }
   ],
   "source": [
    "pip install -q -U google-genai"
   ]
  },
  {
   "cell_type": "code",
   "execution_count": 14,
   "id": "cf9ac2f6",
   "metadata": {},
   "outputs": [],
   "source": [
    "import os\n",
    "import requests\n",
    "from dotenv import load_dotenv\n",
    "from bs4 import BeautifulSoup\n",
    "from IPython.display import Markdown, display\n",
    "import google.generativeai as genai"
   ]
  },
  {
   "cell_type": "code",
   "execution_count": 15,
   "id": "9ef7d6df",
   "metadata": {},
   "outputs": [
    {
     "name": "stdout",
     "output_type": "stream",
     "text": [
      "API key loaded successfully.\n"
     ]
    }
   ],
   "source": [
    "load_dotenv()\n",
    "api_key = os.getenv(\"GEMINI_API_KEY\")\n",
    "\n",
    "if not api_key:\n",
    "    print(\"Api key not found. Please set the GEMINI_API_KEY environment variable.\")\n",
    "else:\n",
    "    print(\"API key loaded successfully.\")"
   ]
  },
  {
   "cell_type": "code",
   "execution_count": 16,
   "id": "a819f568",
   "metadata": {},
   "outputs": [],
   "source": [
    "client = genai.GenerativeModel('gemini-2.5-pro')"
   ]
  },
  {
   "cell_type": "code",
   "execution_count": 17,
   "id": "6b0217b1",
   "metadata": {},
   "outputs": [],
   "source": [
    "# A class to represent a webpage\n",
    "\n",
    "class Website:\n",
    "    \"\"\"\n",
    "    A class to represent a website that we have scraped\n",
    "    \"\"\"\n",
    "    def __init__(self, url):\n",
    "        \"\"\"\n",
    "        Initializes the Website object with a URL and fetches its content.\n",
    "        \"\"\"\n",
    "        self.url = url\n",
    "        response = requests.get(url)\n",
    "        soup = BeautifulSoup(response.content, 'html.parser')\n",
    "        self.title = soup.title.string if soup.title else 'No Title found'\n",
    "        for irrelevant in soup(['script', 'style', 'img', 'input']):\n",
    "            irrelevant.decompose()\n",
    "        self.text = soup.get_text(separator='\\n', strip=True)"
   ]
  },
  {
   "cell_type": "code",
   "execution_count": 18,
   "id": "b0e065d3",
   "metadata": {},
   "outputs": [
    {
     "name": "stdout",
     "output_type": "stream",
     "text": [
      "Breaking News, Latest News and Videos | CNN\n",
      "Breaking News, Latest News and Videos | CNN\n",
      "CNN values your feedback\n",
      "1. How relevant is this ad to you?\n",
      "2. Did you encounter any technical issues?\n",
      "Video player was slow to load content\n",
      "Video content never loaded\n",
      "Ad froze or did not finish loading\n",
      "Video content did not start after ad\n",
      "Audio on ad was too loud\n",
      "Other issues\n",
      "Ad never loaded\n",
      "Ad prevented/slowed the page from loading\n",
      "Content moved around while ad loaded\n",
      "Ad was repetitive to ads I've seen previously\n",
      "Other issues\n",
      "Cancel\n",
      "Submit\n",
      "Thank You!\n"
     ]
    }
   ],
   "source": [
    "page = Website(\"https://cnn.com\")\n",
    "print(page.title)\n",
    "print(page.text[:500])"
   ]
  },
  {
   "cell_type": "markdown",
   "id": "a4686513",
   "metadata": {},
   "source": [
    "System Prompt - Tells what task they are performing and what tone they should use\n",
    "\n",
    "A user prompt - The conversation starter that they should reply to"
   ]
  },
  {
   "cell_type": "code",
   "execution_count": 19,
   "id": "7b5d1aa1",
   "metadata": {},
   "outputs": [],
   "source": [
    "# Create a system prompt for the model\n",
    "\n",
    "sys_prompt = \"You are a helpful assistant that analyses and summarizes web pages \\\n",
    "        and provides a concise summary of the content.\\\n",
    "        Respond in markdown\""
   ]
  },
  {
   "cell_type": "code",
   "execution_count": 20,
   "id": "d5d15dec",
   "metadata": {},
   "outputs": [],
   "source": [
    "# A function that writes user prompt that asks for summarization\n",
    "\n",
    "def user_prompt(website):\n",
    "    prompt = f\"\"\"You are a helpful assistant that analyses and summarizes web pages.\n",
    "    Please provide a concise summary of the content in markdown format.\n",
    "\n",
    "    You are looking at a website titled: {website.title}.\n",
    "\n",
    "    The content of this website is as follows:\n",
    "    {website.text}\n",
    "    \"\"\"\n",
    "    return prompt"
   ]
  },
  {
   "cell_type": "code",
   "execution_count": 21,
   "id": "02781538",
   "metadata": {},
   "outputs": [],
   "source": [
    "def summarize_website(url):\n",
    "    website = Website(url)\n",
    "\n",
    "    # Create the prompt\n",
    "    content = user_prompt(website)\n",
    "\n",
    "    # Generate the content\n",
    "    response = client.generate_content(content)\n",
    "\n",
    "    # Return the text from the response\n",
    "    return response.text"
   ]
  },
  {
   "cell_type": "code",
   "execution_count": 22,
   "id": "c6171664",
   "metadata": {},
   "outputs": [
    {
     "data": {
      "text/plain": [
       "'Of course! Here is a concise summary of the content on the CNN homepage.\\n\\n***\\n\\n### Summary of CNN Homepage\\n\\nThis is the main portal for CNN, a major news organization. The page provides a broad overview of the day\\'s top news stories, featuring a mix of US and international events, politics, business, and entertainment.\\n\\n**Top Stories:**\\n*   **US Government Shutdown:** A major focus is on a government shutdown, which is causing travel delays at major airports. There are related stories about President Trump considering withholding back pay from federal workers and the political messaging from the GOP.\\n*   **Supreme Court:** The court is reportedly prepared to rule against a ban on conversion therapy.\\n*   **Pam Bondi Hearing:** The attorney general nominee is facing a contentious Senate confirmation hearing, with questions about National Guard deployments and various investigations.\\n*   **Gaza Ceasefire Talks:** Live updates indicate that talks are making progress.\\n\\n**Key Sections & Other Highlights:**\\n*   **Politics:** Coverage includes Trump\\'s potential use of an old law to deploy the National Guard and various political analyses.\\n*   **World News:** Updates on the Israel-Hamas and Ukraine-Russia wars are prominently featured.\\n*   **Business & Consumer:** There is a heavy emphasis on **Amazon Prime Day** deals, promoted through CNN\\'s review section, \"Underscored.\" Other business news includes Tesla unveiling cheaper car models.\\n*   **Entertainment:** Trending topics include a \"Bennifer\" (Jennifer Lopez and Ben Affleck) reunion and Taylor Swift\\'s recent album and Super Bowl status.\\n*   **Video Content:** The page is rich with video clips covering a wide range of topics, from political exchanges to international news and celebrity updates.\\n*   **Subscriber Content:** Several in-depth articles and analyses are marked as exclusive for CNN subscribers.'"
      ]
     },
     "execution_count": 22,
     "metadata": {},
     "output_type": "execute_result"
    }
   ],
   "source": [
    "summarize_website(\"https://cnn.com\")"
   ]
  },
  {
   "cell_type": "code",
   "execution_count": 23,
   "id": "e713adfe",
   "metadata": {},
   "outputs": [],
   "source": [
    "# A Function to display this nicely in markdown\n",
    "\n",
    "def display_summary(url):\n",
    "    summary = summarize_website(url)\n",
    "    display(Markdown(summary))"
   ]
  },
  {
   "cell_type": "code",
   "execution_count": 24,
   "id": "b309dec1",
   "metadata": {},
   "outputs": [
    {
     "data": {
      "text/markdown": [
       "Of course. Here is a concise summary of the CNN webpage content in markdown format.\n",
       "\n",
       "### Overview\n",
       "\n",
       "This is the main homepage for CNN, a major news organization. It serves as a portal to a wide range of global and US news, featuring top headlines, live updates, videos, and various content sections.\n",
       "\n",
       "### Top News Stories\n",
       "\n",
       "*   **US Politics:** The lead stories focus on a potential **government shutdown**, its impact on travelers and federal workers, and related political maneuvering. There are also articles on a Supreme Court ruling concerning conversion therapy and the contentious Senate hearing for Pam Bondi.\n",
       "*   **International Affairs:** **Live updates on Gaza ceasefire talks** and the ongoing **Israel-Hamas War** are prominently featured. The Ukraine-Russia war is also a key navigation topic.\n",
       "*   **Donald Trump:** Several headlines involve the former president, including his comments on the shutdown, National Guard deployments, and the Epstein investigation.\n",
       "*   **Investigations:** There is a dedicated section on the fallout from the **Jeffrey Epstein investigations**, including a Supreme Court appeal from Ghislaine Maxwell.\n",
       "\n",
       "### Featured Content & Sections\n",
       "\n",
       "*   **CNN Underscored:** A significant portion of the page is dedicated to product reviews and deals, with a heavy emphasis on **Amazon Prime Day** sales on items like shoes, electronics, and kitchen essentials.\n",
       "*   **Videos:** A large collection of recent video clips covering news events, interviews, and human-interest stories.\n",
       "*   **Live Updates:** Dedicated, real-time coverage of breaking news events like the Gaza talks and the government shutdown.\n",
       "*   **Analysis & Exclusives:** In-depth articles and opinion pieces are available, some of which are marked for subscribers only.\n",
       "*   **Other Categories:** The site is organized into broad sections including World, Business, Health, Entertainment, Sports, Climate, and Style.\n",
       "\n",
       "### Website Features\n",
       "\n",
       "*   **Multimedia:** The site offers content via articles, live TV, video clips, and podcasts (\"Listen\").\n",
       "*   **Interactivity:** Users can play games (crosswords, Sudoku) and take quizzes.\n",
       "*   **Personalization:** Options to sign in, create an account, and follow specific topics."
      ],
      "text/plain": [
       "<IPython.core.display.Markdown object>"
      ]
     },
     "metadata": {},
     "output_type": "display_data"
    }
   ],
   "source": [
    "display_summary(\"https://cnn.com\")"
   ]
  }
 ],
 "metadata": {
  "kernelspec": {
   "display_name": "llms",
   "language": "python",
   "name": "python3"
  },
  "language_info": {
   "codemirror_mode": {
    "name": "ipython",
    "version": 3
   },
   "file_extension": ".py",
   "mimetype": "text/x-python",
   "name": "python",
   "nbconvert_exporter": "python",
   "pygments_lexer": "ipython3",
   "version": "3.11.13"
  }
 },
 "nbformat": 4,
 "nbformat_minor": 5
}
