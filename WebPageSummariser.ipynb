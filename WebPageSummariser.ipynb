{
 "cells": [
  {
   "cell_type": "code",
   "execution_count": 45,
   "id": "523be164",
   "metadata": {},
   "outputs": [
    {
     "name": "stdout",
     "output_type": "stream",
     "text": [
      "Note: you may need to restart the kernel to use updated packages.\n"
     ]
    }
   ],
   "source": [
    "pip install -q -U google-genai"
   ]
  },
  {
   "cell_type": "code",
   "execution_count": 46,
   "id": "cf9ac2f6",
   "metadata": {},
   "outputs": [],
   "source": [
    "import os\n",
    "import requests\n",
    "from dotenv import load_dotenv\n",
    "from bs4 import BeautifulSoup\n",
    "from IPython.display import Markdown, display\n",
    "import google.generativeai as genai"
   ]
  },
  {
   "cell_type": "code",
   "execution_count": 47,
   "id": "9ef7d6df",
   "metadata": {},
   "outputs": [
    {
     "name": "stdout",
     "output_type": "stream",
     "text": [
      "API key loaded successfully.\n"
     ]
    }
   ],
   "source": [
    "load_dotenv()\n",
    "api_key = os.getenv(\"GEMINI_API_KEY\")\n",
    "\n",
    "if not api_key:\n",
    "    print(\"Api key not found. Please set the GEMINI_API_KEY environment variable.\")\n",
    "else:\n",
    "    print(\"API key loaded successfully.\")"
   ]
  },
  {
   "cell_type": "code",
   "execution_count": 48,
   "id": "a819f568",
   "metadata": {},
   "outputs": [],
   "source": [
    "client = genai.GenerativeModel('gemini-2.5-pro')"
   ]
  },
  {
   "cell_type": "code",
   "execution_count": 49,
   "id": "6b0217b1",
   "metadata": {},
   "outputs": [],
   "source": [
    "# A class to represent a webpage\n",
    "\n",
    "class Website:\n",
    "    \"\"\"\n",
    "    A class to represent a website that we have scraped\n",
    "    \"\"\"\n",
    "    def __init__(self, url):\n",
    "        \"\"\"\n",
    "        Initializes the Website object with a URL and fetches its content.\n",
    "        \"\"\"\n",
    "        self.url = url\n",
    "        response = requests.get(url)\n",
    "        soup = BeautifulSoup(response.content, 'html.parser')\n",
    "        self.title = soup.title.string if soup.title else 'No Title found'\n",
    "        for irrelevant in soup(['script', 'style', 'img', 'input']):\n",
    "            irrelevant.decompose()\n",
    "        self.text = soup.get_text(separator='\\n', strip=True)"
   ]
  },
  {
   "cell_type": "code",
   "execution_count": 50,
   "id": "b0e065d3",
   "metadata": {},
   "outputs": [
    {
     "name": "stdout",
     "output_type": "stream",
     "text": [
      "Home - Edward Donner\n",
      "Home - Edward Donner\n",
      "Home\n",
      "Connect Four\n",
      "Outsmart\n",
      "An arena that pits LLMs against each other in a battle of diplomacy and deviousness\n",
      "About\n",
      "Posts\n",
      "Well, hi there.\n",
      "I’m Ed. I like writing code and experimenting with LLMs, and hopefully you’re here because you do too. I also enjoy DJing (but I’m badly out of practice), amateur electronic music production (\n",
      "very\n",
      "amateur) and losing myself in\n",
      "Hacker News\n",
      ", nodding my head sagely to things I only half understand.\n",
      "I’m the co-founder and CTO of\n",
      "Nebula.io\n",
      ".\n"
     ]
    }
   ],
   "source": [
    "page = Website(\"https://edwarddonner.com\")\n",
    "print(page.title)\n",
    "print(page.text[:500])"
   ]
  },
  {
   "cell_type": "markdown",
   "id": "a4686513",
   "metadata": {},
   "source": [
    "System Prompt - Tells what task they are performing and what tone they should use\n",
    "\n",
    "A user prompt - The conversation starter that they should reply to"
   ]
  },
  {
   "cell_type": "code",
   "execution_count": 51,
   "id": "7b5d1aa1",
   "metadata": {},
   "outputs": [],
   "source": [
    "# Create a system prompt for the model\n",
    "\n",
    "sys_prompt = \"You are a helpful assistant that analyses and summarizes web pages \\\n",
    "        and provides a concise summary of the content.\\\n",
    "        Respond in markdown\""
   ]
  },
  {
   "cell_type": "code",
   "execution_count": 52,
   "id": "d5d15dec",
   "metadata": {},
   "outputs": [],
   "source": [
    "# A function that writes user prompt that asks for summarization\n",
    "\n",
    "def user_prompt(website):\n",
    "    prompt = f\"\"\"You are a helpful assistant that analyses and summarizes web pages.\n",
    "    Please provide a concise summary of the content in markdown format.\n",
    "\n",
    "    You are looking at a website titled: {website.title}.\n",
    "\n",
    "    The content of this website is as follows:\n",
    "    {website.text}\n",
    "    \"\"\"\n",
    "    return prompt"
   ]
  },
  {
   "cell_type": "code",
   "execution_count": 55,
   "id": "02781538",
   "metadata": {},
   "outputs": [],
   "source": [
    "def summarize_website(url):\n",
    "    website = Website(url)\n",
    "\n",
    "    # Create the prompt\n",
    "    content = user_prompt(website)\n",
    "\n",
    "    # Generate the content\n",
    "    response = client.generate_content(content)\n",
    "\n",
    "    # Return the text from the response\n",
    "    return response.text"
   ]
  },
  {
   "cell_type": "code",
   "execution_count": 56,
   "id": "c6171664",
   "metadata": {},
   "outputs": [
    {
     "data": {
      "text/plain": [
       "'This is the personal website of **Edward (Ed) Donner**, a technologist specializing in AI and Large Language Models (LLMs).\\n\\n*   **Professional Background**:\\n    *   Co-founder and CTO of **Nebula.io**, an AI-powered platform used by recruiters to discover and manage talent.\\n    *   Previously founded the AI startup **untapt**, which was acquired in 2021.\\n\\n*   **Interests and Expertise**:\\n    *   He focuses on writing code and experimenting with LLMs.\\n    *   His personal interests include DJing, electronic music production, and reading Hacker News.\\n\\n*   **Website Content**:\\n    *   Features projects like **Outsmart**, a competitive arena for LLMs.\\n    *   Includes a \"Posts\" section with articles and courses on topics like \"Agentic AI Engineering\" and \"AI in Production.\"\\n    *   Provides links to connect with him on social media and subscribe to his newsletter.'"
      ]
     },
     "execution_count": 56,
     "metadata": {},
     "output_type": "execute_result"
    }
   ],
   "source": [
    "summarize_website(\"https://edwarddonner.com\")"
   ]
  },
  {
   "cell_type": "code",
   "execution_count": 57,
   "id": "e713adfe",
   "metadata": {},
   "outputs": [],
   "source": [
    "# A Function to display this nicely in markdown\n",
    "\n",
    "def display_summary(url):\n",
    "    summary = summarize_website(url)\n",
    "    display(Markdown(summary))"
   ]
  },
  {
   "cell_type": "code",
   "execution_count": 58,
   "id": "b309dec1",
   "metadata": {},
   "outputs": [
    {
     "data": {
      "text/markdown": [
       "This is the personal website of **Ed Donner**, a co-founder and CTO of an AI company called **Nebula.io**.\n",
       "\n",
       "### Key Information:\n",
       "\n",
       "*   **Professional Background:**\n",
       "    *   Co-founder and CTO of **Nebula.io**, a company using proprietary AI and LLMs to help recruiters source and manage talent.\n",
       "    *   Former founder and CEO of the AI startup **untapt**, which was acquired in 2021.\n",
       "*   **Interests:**\n",
       "    *   Writing code and experimenting with Large Language Models (LLMs).\n",
       "    *   DJing and amateur electronic music production.\n",
       "*   **Website Content:**\n",
       "    *   **Projects:** Showcases \"Connect Four\" and \"Outsmart,\" an arena where LLMs compete against each other.\n",
       "    *   **Posts:** A blog section with articles on topics like Generative AI, Agentic AI engineering, and LLM courses.\n",
       "    *   **Contact:** Provides links to his LinkedIn and Twitter profiles, his email address, and a newsletter subscription."
      ],
      "text/plain": [
       "<IPython.core.display.Markdown object>"
      ]
     },
     "metadata": {},
     "output_type": "display_data"
    }
   ],
   "source": [
    "display_summary(\"https://edwarddonner.com\")"
   ]
  }
 ],
 "metadata": {
  "kernelspec": {
   "display_name": "Python 3 (ipykernel)",
   "language": "python",
   "name": "python3"
  },
  "language_info": {
   "codemirror_mode": {
    "name": "ipython",
    "version": 3
   },
   "file_extension": ".py",
   "mimetype": "text/x-python",
   "name": "python",
   "nbconvert_exporter": "python",
   "pygments_lexer": "ipython3",
   "version": "3.11.13"
  }
 },
 "nbformat": 4,
 "nbformat_minor": 5
}
