{
 "cells": [
  {
   "cell_type": "code",
   "execution_count": 1,
   "id": "523be164",
   "metadata": {},
   "outputs": [
    {
     "name": "stdout",
     "output_type": "stream",
     "text": [
      "Note: you may need to restart the kernel to use updated packages.\n"
     ]
    }
   ],
   "source": [
    "pip install -q -U google-genai"
   ]
  },
  {
   "cell_type": "code",
   "execution_count": 2,
   "id": "cf9ac2f6",
   "metadata": {},
   "outputs": [],
   "source": [
    "import os\n",
    "import requests\n",
    "from dotenv import load_dotenv\n",
    "from bs4 import BeautifulSoup\n",
    "from IPython.display import Markdown, display\n",
    "import google.generativeai as genai"
   ]
  },
  {
   "cell_type": "code",
   "execution_count": 3,
   "id": "9ef7d6df",
   "metadata": {},
   "outputs": [
    {
     "name": "stdout",
     "output_type": "stream",
     "text": [
      "API key loaded successfully.\n"
     ]
    }
   ],
   "source": [
    "load_dotenv()\n",
    "api_key = os.getenv(\"GEMINI_API_KEY\")\n",
    "\n",
    "if not api_key:\n",
    "    print(\"Api key not found. Please set the GEMINI_API_KEY environment variable.\")\n",
    "else:\n",
    "    print(\"API key loaded successfully.\")"
   ]
  },
  {
   "cell_type": "code",
   "execution_count": 4,
   "id": "a819f568",
   "metadata": {},
   "outputs": [],
   "source": [
    "client = genai.GenerativeModel('gemini-2.5-pro')"
   ]
  },
  {
   "cell_type": "code",
   "execution_count": 5,
   "id": "6b0217b1",
   "metadata": {},
   "outputs": [],
   "source": [
    "# A class to represent a webpage\n",
    "\n",
    "class Website:\n",
    "    \"\"\"\n",
    "    A class to represent a website that we have scraped\n",
    "    \"\"\"\n",
    "    def __init__(self, url):\n",
    "        \"\"\"\n",
    "        Initializes the Website object with a URL and fetches its content.\n",
    "        \"\"\"\n",
    "        self.url = url\n",
    "        response = requests.get(url)\n",
    "        soup = BeautifulSoup(response.content, 'html.parser')\n",
    "        self.title = soup.title.string if soup.title else 'No Title found'\n",
    "        for irrelevant in soup(['script', 'style', 'img', 'input']):\n",
    "            irrelevant.decompose()\n",
    "        self.text = soup.get_text(separator='\\n', strip=True)"
   ]
  },
  {
   "cell_type": "code",
   "execution_count": 6,
   "id": "b0e065d3",
   "metadata": {},
   "outputs": [
    {
     "name": "stdout",
     "output_type": "stream",
     "text": [
      "Breaking News, Latest News and Videos | CNN\n",
      "Breaking News, Latest News and Videos | CNN\n",
      "CNN values your feedback\n",
      "1. How relevant is this ad to you?\n",
      "2. Did you encounter any technical issues?\n",
      "Video player was slow to load content\n",
      "Video content never loaded\n",
      "Ad froze or did not finish loading\n",
      "Video content did not start after ad\n",
      "Audio on ad was too loud\n",
      "Other issues\n",
      "Ad never loaded\n",
      "Ad prevented/slowed the page from loading\n",
      "Content moved around while ad loaded\n",
      "Ad was repetitive to ads I've seen previously\n",
      "Other issues\n",
      "Cancel\n",
      "Submit\n",
      "Thank You!\n"
     ]
    }
   ],
   "source": [
    "page = Website(\"https://cnn.com\")\n",
    "print(page.title)\n",
    "print(page.text[:500])"
   ]
  },
  {
   "cell_type": "markdown",
   "id": "a4686513",
   "metadata": {},
   "source": [
    "System Prompt - Tells what task they are performing and what tone they should use\n",
    "\n",
    "A user prompt - The conversation starter that they should reply to"
   ]
  },
  {
   "cell_type": "code",
   "execution_count": 7,
   "id": "7b5d1aa1",
   "metadata": {},
   "outputs": [],
   "source": [
    "# Create a system prompt for the model\n",
    "\n",
    "sys_prompt = \"You are a helpful assistant that analyses and summarizes web pages \\\n",
    "        and provides a concise summary of the content.\\\n",
    "        Respond in markdown\""
   ]
  },
  {
   "cell_type": "code",
   "execution_count": 8,
   "id": "d5d15dec",
   "metadata": {},
   "outputs": [],
   "source": [
    "# A function that writes user prompt that asks for summarization\n",
    "\n",
    "def user_prompt(website):\n",
    "    prompt = f\"\"\"You are a helpful assistant that analyses and summarizes web pages.\n",
    "    Please provide a concise summary of the content in markdown format.\n",
    "\n",
    "    You are looking at a website titled: {website.title}.\n",
    "\n",
    "    The content of this website is as follows:\n",
    "    {website.text}\n",
    "    \"\"\"\n",
    "    return prompt"
   ]
  },
  {
   "cell_type": "code",
   "execution_count": 9,
   "id": "02781538",
   "metadata": {},
   "outputs": [],
   "source": [
    "def summarize_website(url):\n",
    "    website = Website(url)\n",
    "\n",
    "    # Create the prompt\n",
    "    content = user_prompt(website)\n",
    "\n",
    "    # Generate the content\n",
    "    response = client.generate_content(content)\n",
    "\n",
    "    # Return the text from the response\n",
    "    return response.text"
   ]
  },
  {
   "cell_type": "code",
   "execution_count": 10,
   "id": "c6171664",
   "metadata": {},
   "outputs": [
    {
     "data": {
      "text/plain": [
       "'Of course, here is a concise summary of the CNN website\\'s content.\\n\\n***\\n\\n### Summary of CNN Homepage\\n\\nThis is the main page for CNN, a major news organization. The content covers a wide range of breaking news and current events from the US and around the world.\\n\\n#### Top Headlines\\n*   **US Politics:** The top stories focus on a potential government shutdown, its impact on travel and federal workers, and related political maneuvering. There are reports on a contentious Senate hearing for Pam Bondi and a Supreme Court decision regarding conversion therapy bans.\\n*   **International Affairs:** Live updates are provided on Gaza ceasefire talks. The ongoing wars in Ukraine and Israel-Hamas are prominent navigation topics.\\n*   **Trump-related News:** Multiple articles cover former President Trump, including his comments on the shutdown, National Guard deployments, and the Epstein investigation.\\n\\n#### Key Sections\\n*   **US & World News:** Covers a variety of domestic and international stories, from crime and justice to regional news from Africa, Asia, Europe, and more.\\n*   **Politics:** Features analysis, polls, and exclusive reports on government affairs and elections.\\n*   **Business & Shopping:** Highlights market news and features a large section called \"CNN Underscored\" dedicated to Amazon Prime Day deals on various products like electronics, home goods, and fashion.\\n*   **Health & Lifestyle:** Includes articles on fitness, food, travel, and style.\\n*   **Entertainment & Sports:** Reports on celebrity news (Taylor Swift, Jennifer Lopez/Ben Affleck reunion), movies, and major sports stories.\\n\\nThe website also offers extensive video clips, live TV streaming, podcasts, and interactive games like crosswords and quizzes.'"
      ]
     },
     "execution_count": 10,
     "metadata": {},
     "output_type": "execute_result"
    }
   ],
   "source": [
    "summarize_website(\"https://cnn.com\")"
   ]
  },
  {
   "cell_type": "code",
   "execution_count": 11,
   "id": "e713adfe",
   "metadata": {},
   "outputs": [],
   "source": [
    "# A Function to display this nicely in markdown\n",
    "\n",
    "def display_summary(url):\n",
    "    summary = summarize_website(url)\n",
    "    display(Markdown(summary))"
   ]
  },
  {
   "cell_type": "code",
   "execution_count": 12,
   "id": "b309dec1",
   "metadata": {},
   "outputs": [
    {
     "data": {
      "text/markdown": [
       "This is the personal website of **Ed Donner**, a technologist and entrepreneur specializing in AI and Large Language Models (LLMs).\n",
       "\n",
       "### Key Information:\n",
       "*   **Profession:** Co-founder and CTO of **Nebula.io**, an AI company that helps recruiters source and manage talent. He was previously the founder and CEO of AI startup **untapt**, which was acquired in 2021.\n",
       "*   **Expertise:** His work involves proprietary LLMs verticalized for the talent industry and patented matching models.\n",
       "*   **Interests:** Writing code, experimenting with LLMs, DJing, and electronic music production.\n",
       "*   **Website Content:**\n",
       "    *   **Projects:** Includes \"Connect Four\" and \"Outsmart,\" an arena where LLMs compete against each other.\n",
       "    *   **Posts:** Features articles and briefings on AI topics, such as \"Gen AI and Agentic AI on AWS\" and \"The Complete Agentic AI Engineering Course.\"\n",
       "    *   **Contact:** Provides links to his social media (LinkedIn, Twitter) and an option to subscribe to his newsletter."
      ],
      "text/plain": [
       "<IPython.core.display.Markdown object>"
      ]
     },
     "metadata": {},
     "output_type": "display_data"
    }
   ],
   "source": [
    "display_summary(\"https://edwarddonner.com\")"
   ]
  }
 ],
 "metadata": {
  "kernelspec": {
   "display_name": "llms",
   "language": "python",
   "name": "python3"
  },
  "language_info": {
   "codemirror_mode": {
    "name": "ipython",
    "version": 3
   },
   "file_extension": ".py",
   "mimetype": "text/x-python",
   "name": "python",
   "nbconvert_exporter": "python",
   "pygments_lexer": "ipython3",
   "version": "3.11.13"
  }
 },
 "nbformat": 4,
 "nbformat_minor": 5
}
